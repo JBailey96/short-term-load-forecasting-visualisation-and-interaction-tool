{
 "cells": [
  {
   "cell_type": "code",
   "execution_count": 10,
   "metadata": {},
   "outputs": [],
   "source": [
    "import pandas as pd\n",
    "import numpy as np\n",
    "import matplotlib.pyplot as plt\n",
    "from datetime import datetime, timedelta"
   ]
  },
  {
   "cell_type": "code",
   "execution_count": 11,
   "metadata": {},
   "outputs": [],
   "source": [
    "load_data = pd.read_csv('demandForecastingData.csv', parse_dates=['Date'])"
   ]
  },
  {
   "cell_type": "code",
   "execution_count": 12,
   "metadata": {},
   "outputs": [],
   "source": [
    "def calculate_date(date, displacement_value, displacement_unit):\n",
    "    minute_map = {\n",
    "        'Half Hours': 30,\n",
    "        'Hours': 60,\n",
    "        'Days': 1440,\n",
    "        'Weeks': 10080,\n",
    "        'Months': 40320,\n",
    "        'Years': 524160\n",
    "    }\n",
    "    date = datetime.strptime(date, \"%Y-%m-%d\")\n",
    "    displacement_minutes = minute_map.get(displacement_unit)\n",
    "    return date - timedelta(minutes=displacement_minutes*displacement_value)\n"
   ]
  },
  {
   "cell_type": "code",
   "execution_count": 13,
   "metadata": {},
   "outputs": [],
   "source": [
    "def displace_dataframe(load_data, start_date, end_date, displacement_value, displacement_unit):\n",
    "    start_date = calculate_date(\n",
    "        start_date, displacement_value, displacement_unit)\n",
    "    end_date = calculate_date(end_date, displacement_value, displacement_unit)\n",
    "    predicted_load = load_data[(load_data.Date >= start_date) & (load_data.Date <= end_date)]['Load'].reset_index(drop=True)\n",
    "    return predicted_load"
   ]
  },
  {
   "cell_type": "code",
   "execution_count": 15,
   "metadata": {},
   "outputs": [],
   "source": [
    "predicted_load = displace_dataframe(load_data, '2013-01-01', '2013-01-08', 1, 'Weeks')"
   ]
  },
  {
   "cell_type": "code",
   "execution_count": 35,
   "metadata": {},
   "outputs": [],
   "source": [
    "ranged_load_data = load_data[(load_data.Date >= datetime(2013, 1, 1)) & (load_data.Date <= datetime(2013, 1, 8))]"
   ]
  },
  {
   "cell_type": "code",
   "execution_count": 36,
   "metadata": {},
   "outputs": [],
   "source": [
    "ranged_load_data = ranged_load_data.reset_index(drop=True)"
   ]
  },
  {
   "cell_type": "code",
   "execution_count": 37,
   "metadata": {},
   "outputs": [],
   "source": [
    "ranged_load_data['Predicted Load'] = predicted_load"
   ]
  },
  {
   "cell_type": "code",
   "execution_count": 43,
   "metadata": {},
   "outputs": [
    {
     "data": {
      "image/png": "[encoded data removed]",
      "text/plain": [
       "<Figure size 720x720 with 1 Axes>"
      ]
     },
     "metadata": {
      "needs_background": "light"
     },
     "output_type": "display_data"
    }
   ],
   "source": [
    "def absolute_percentage_error(row): #calculates APE of predicted load with actual load (y-axis)\n",
    "    y_true = row['Load']\n",
    "    y_pred = row['Predicted Load'] \n",
    "    return np.abs((y_true - y_pred) / y_true) * 100\n",
    "\n",
    "ranged_load_data['APE'] = ranged_load_data.apply(lambda row: absolute_percentage_error(row), axis=1) #calculating the APE\n",
    "ranged_load_data = ranged_load_data.sort_values(by=['APE']) #sort entries by APE\n",
    "\n",
    "ranged_load_data['Index'] = range(1, len(ranged_load_data)+1) #adds index to data\n",
    "\n",
    "def calc_percent(row): #sets cumulative % (x-axis)\n",
    "    percent_of_data = (row['Index']/len(ranged_load_data)) * 100 \n",
    "    return percent_of_data\n",
    "\n",
    "ranged_load_data['error percent'] = ranged_load_data.apply(lambda row: calc_percent(row), axis=1) #calculating the cumulative %\n",
    "\n",
    "plt.figure(figsize=(10,10)) #setting the visualisation limits of the graph\n",
    "plt.plot(ranged_load_data['APE'], ranged_load_data['error percent'], color='orange', linewidth=4.0) #plotting the graph\n",
    "plt.legend(['-1 Weeks']) #legend of graph visualisation\n",
    "plt.xlabel('Absolute Percentage Error (%)')\n",
    "plt.ylabel('Cumulative Percentage (%)')\n",
    "plt.xlim(0) #start x at 0\n",
    "plt.ylim(0) #start y at 0\n",
    "plt.savefig(\"APE Visualisation.svg\", format=\"svg\", bbox_inches='tight') #saving the visualisation"
   ]
  },
  {
   "cell_type": "code",
   "execution_count": 18,
   "metadata": {},
   "outputs": [],
   "source": [
    "# def linear_interpolate(x, y, APE_value):\n",
    "#     closest_negative_distance = 0\n",
    "#     x1 = 0\n",
    "#     y1 = 0\n",
    "#     closest_positive_difference = 0\n",
    "#     x2 = 0\n",
    "#     y2 = 0\n",
    "#     for x, y in zip(x, y):\n",
    "#         negative_difference = y - APE_value\n",
    "#         positive_difference = APE_value - y\n",
    "#         if closest_negative_distance > negative_difference:\n",
    "#             negative_difference = closest_negative_distance\n",
    "#             x1 = x\n",
    "#             y1 = y\n",
    "#         if closest_positive_distance > positive_difference:\n",
    "#             positive_difference = closest_positive_difference\n",
    "#             x2 = x\n",
    "#             y2 = y\n",
    "        \n",
    "#     x1 = numpy.searchsorted(x, APE_value)\n",
    "#     x2 = numpy.searchsorted(x, APE_value, side='right')\n",
    "#     y1 = "
   ]
  },
  {
   "cell_type": "code",
   "execution_count": 20,
   "metadata": {},
   "outputs": [
    {
     "data": {
      "text/plain": [
       "array([10.9833223])"
      ]
     },
     "execution_count": 20,
     "metadata": {},
     "output_type": "execute_result"
    }
   ],
   "source": [
    "np.interp([90], ranged_load_data['error percent'], ranged_load_data['MAPE'])"
   ]
  },
  {
   "cell_type": "code",
   "execution_count": 22,
   "metadata": {},
   "outputs": [
    {
     "data": {
      "text/plain": [
       "array([10.8])"
      ]
     },
     "execution_count": 22,
     "metadata": {},
     "output_type": "execute_result"
    }
   ],
   "source": [
    "np.interp([90],[25, 50, 75, 100], [5, 7, 9, 12])"
   ]
  },
  {
   "cell_type": "code",
   "execution_count": null,
   "metadata": {},
   "outputs": [],
   "source": []
  }
 ],
 "metadata": {
  "kernelspec": {
   "display_name": "Python 3",
   "language": "python",
   "name": "python3"
  },
  "language_info": {
   "codemirror_mode": {
    "name": "ipython",
    "version": 3
   },
   "file_extension": ".py",
   "mimetype": "text/x-python",
   "name": "python",
   "nbconvert_exporter": "python",
   "pygments_lexer": "ipython3",
   "version": "3.6.6"
  }
 },
 "nbformat": 4,
 "nbformat_minor": 2
}

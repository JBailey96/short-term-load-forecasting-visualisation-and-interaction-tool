{
 "cells": [
  {
   "cell_type": "code",
   "execution_count": null,
   "metadata": {},
   "outputs": [],
   "source": [
    "#2018-07-01 00:00:00\n",
    "#2013-01-01 00:00:00\n",
    "end_date = datetime(2018, 7, 1)\n",
    "start_date = datetime(2013, 1, 1)\n",
    "\n",
    "start_date_displaced_day = start_date - timedelta(minutes=1440)\n",
    "end_date_displaced_day = end_date - timedelta(minutes=1440)\n",
    "\n",
    "start_date_displaced_week = start_date - timedelta(minutes=10080)\n",
    "end_date_displaced_week = end_date - timedelta(minutes=10080)\n",
    "\n",
    "start_date_displaced_year = start_date - timedelta(minutes=524160)\n",
    "end_date_displaced_year = end_date - timedelta(minutes=524160)\n",
    "\n",
    "ranged_df = df[(df.Date >= start_date) & (df.Date <= end_date)].reset_index(drop=True)\n",
    "\n",
    "df_same_day_displaced  = df[(df.Date >= start_date_displaced_day) & (df.Date <= end_date_displaced_day)].reset_index(drop=True)\n",
    "df_same_week_displaced  = df[(df.Date >= start_date_displaced_week) & (df.Date <= end_date_displaced_week)].reset_index(drop=True)\n",
    "df_same_year_displaced  = df[(df.Date >= start_date_displaced_year) & (df.Date <= end_date_displaced_year)].reset_index(drop=True)\n",
    "\n",
    "ranged_df['Load Last Day'] = df_same_day_displaced['Load']\n",
    "ranged_df['Load Last Week'] = df_same_week_displaced['Load']\n",
    "ranged_df['Load Last Year'] = df_same_year_displaced['Load']\n",
    "\n",
    "ranged_df.head()"
   ]
  },
  {
   "cell_type": "code",
   "execution_count": null,
   "metadata": {},
   "outputs": [],
   "source": [
    "ranged_df.corr()"
   ]
  },
  {
   "cell_type": "code",
   "execution_count": null,
   "metadata": {},
   "outputs": [],
   "source": [
    "plt.figure(figsize=(10,10))\n",
    "plt.scatter(ranged_df['Load'], ranged_df['Load Last Day'])\n",
    "plt.title('Load vs Load Last Day')\n",
    "plt.xlabel('Actual Load')\n",
    "plt.ylabel('Predicted Load')"
   ]
  },
  {
   "cell_type": "code",
   "execution_count": null,
   "metadata": {},
   "outputs": [],
   "source": [
    "plt.figure(figsize=(10,10))\n",
    "plt.scatter(ranged_df['Load'], ranged_df['Load Last Week'])\n",
    "plt.title('Load vs Load Last Week')\n",
    "plt.xlabel('Actual Load')\n",
    "plt.ylabel('Predicted Load')"
   ]
  },
  {
   "cell_type": "code",
   "execution_count": null,
   "metadata": {},
   "outputs": [],
   "source": [
    "plt.figure(figsize=(10,10))\n",
    "plt.scatter(ranged_df['Load'], ranged_df['Load Last Year'])\n",
    "plt.title('Load vs Load Last Year')\n",
    "plt.xlabel('Actual Load')\n",
    "plt.ylabel('Predicted Load')"
   ]
  },
  {
   "cell_type": "markdown",
   "metadata": {},
   "source": [
    "<b>\n",
    "Over 2013-2018, in terms of correlation: SDLY > SDLW > SDLD. </b>"
   ]
  },
  {
   "cell_type": "code",
   "execution_count": null,
   "metadata": {},
   "outputs": [],
   "source": [
    "plt.figure(figsize=(20,20))\n",
    "\n",
    "df_exclude_2018 = ranged_df[ranged_df.Year != 2018]\n",
    "for i in range(0, 7):\n",
    "    plt.subplot(4, 2, i+1)\n",
    "    plt.title(i)\n",
    "    specificday = df_exclude_2018[df_exclude_2018['Dayofweek'] == i]\n",
    "    plt.scatter(specificday['Load'], specificday['Load Last Year'])\n",
    "    plt.title(calendar.day_name[i])\n",
    "    plt.ylabel('Predicted Load')\n",
    "    plt.xlabel('Actual Load')\n",
    "    correlation_specificday = specificday.corr()['Load']['Load Last Year']\n",
    "    print(f'{calendar.day_name[i]} {correlation_specificday}')\n",
    "    \n",
    "plt.subplots_adjust(hspace = 0.5)"
   ]
  },
  {
   "cell_type": "markdown",
   "metadata": {},
   "source": [
    "<b> Wednesday has the strongest correlation to load last year, Monday the weakest correlation. </b>"
   ]
  }
 ],
 "metadata": {
  "kernelspec": {
   "display_name": "Python 3",
   "language": "python",
   "name": "python3"
  },
  "language_info": {
   "codemirror_mode": {
    "name": "ipython",
    "version": 3
   },
   "file_extension": ".py",
   "mimetype": "text/x-python",
   "name": "python",
   "nbconvert_exporter": "python",
   "pygments_lexer": "ipython3",
   "version": "3.6.6"
  }
 },
 "nbformat": 4,
 "nbformat_minor": 2
}

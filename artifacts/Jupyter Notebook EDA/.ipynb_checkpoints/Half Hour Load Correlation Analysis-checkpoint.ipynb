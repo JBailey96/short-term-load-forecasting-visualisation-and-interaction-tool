{
 "cells": [
  {
   "cell_type": "code",
   "execution_count": null,
   "metadata": {},
   "outputs": [],
   "source": [
    "plt.figure(figsize=(20,20))\n",
    "\n",
    "hourlycorrelation = pd.DataFrame(columns=['Hour', 'Correlation'])\n",
    "for i in range(0, 24):\n",
    "    specifichour = ranged_df[(ranged_df['Hour'] == i) & (ranged_df['Minute'] == 0)]\n",
    "    specifichalfhour =  ranged_df[(ranged_df['Hour'] == i) & (ranged_df['Minute'] == 30)]\n",
    "    specifichourcorrelation = specifichour.corr()['Load']['Load Last Year']\n",
    "    specifichalfhourcorrelation = specifichalfhour.corr()['Load']['Load Last Year']\n",
    "    hourlycorrelation = hourlycorrelation.append({'Hour': datetime(2015, 1, 1, i, 0, 0, 0), 'Correlation': specifichourcorrelation}, ignore_index=True)\n",
    "    hourlycorrelation = hourlycorrelation.append({'Hour': datetime(2015, 1, 1, i, 30, 0, 0), 'Correlation': specifichalfhourcorrelation}, ignore_index=True)\n",
    "\n",
    "\n",
    "    print (F\"{i}:00 : {specifichourcorrelation}\")\n",
    "    print (F\"{i}:30 : {specifichalfhourcorrelation}\")\n",
    "    \n",
    "hourlycorrelation.set_index('Hour', inplace=True)\n",
    "hourlycorrelation.head()"
   ]
  },
  {
   "cell_type": "code",
   "execution_count": null,
   "metadata": {},
   "outputs": [],
   "source": [
    "print((hourlycorrelation.index.time))\n",
    "plt.figure(figsize=(20,5))\n",
    "plt.plot(hourlycorrelation.index.time, hourlycorrelation['Correlation'])\n",
    "plt.title('Correlation Load vs Load Last Year')\n",
    "plt.xlabel('Time')\n",
    "plt.ylabel('Correlation')\n",
    "plt.xticks(hourlycorrelation.index.time[0::2])"
   ]
  },
  {
   "cell_type": "code",
   "execution_count": null,
   "metadata": {},
   "outputs": [],
   "source": [
    "hourlycorrelation.plot(kind='bar', figsize=(20,5))\n",
    "plt.title('Correlation Load vs Load Last Year')\n",
    "plt.xlabel('Time')\n",
    "plt.ylabel('Correlation')\n",
    "plt.ylim(0.3, 1)\n",
    "\n",
    "print(type(hourlycorrelation.index))"
   ]
  },
  {
   "cell_type": "markdown",
   "metadata": {},
   "source": [
    "Using SDLY model in the morning has the least correlation (06:00-09:00), most correlation at night (18:00-21:00). Dip at around 3am."
   ]
  },
  {
   "cell_type": "code",
   "execution_count": null,
   "metadata": {},
   "outputs": [],
   "source": [
    "def day_hourlycorrelation(j):\n",
    "    hourlycorrelation = pd.DataFrame(columns=['Hour', 'Correlation'])\n",
    "    for i in range(0, 48):\n",
    "        if i % 2 == 0:\n",
    "            k = 0\n",
    "        else:\n",
    "            k = 30\n",
    "        specificday = ranged_df[ranged_df['Dayofweek'] == j]\n",
    "        specifichour = specificday[(specificday['Hour'] == int(i/2)) & (specificday['Minute'] == k)]     \n",
    "        specifichourcorrelation = specifichour.corr()['Load']['Load Last Year']\n",
    "        title = j\n",
    "        hourlycorrelation = hourlycorrelation.append({'Hour': datetime(2015, 1, 1, int(i/2), k, 0, 0), 'Correlation': specifichourcorrelation}, ignore_index=True)\n",
    "    return hourlycorrelation\n",
    "\n",
    "for j in range(0, 7):\n",
    "    hourlycorrelation = day_hourlycorrelation(j)\n",
    "    hourlycorrelation.set_index('Hour', inplace=True)\n",
    "    hourlycorrelation.plot(kind='bar', figsize=(20,5))\n",
    "    plt.title(f'{calendar.day_name[j]}: Correlation Load vs Load Last Year')\n",
    "    plt.xlabel('Time')\n",
    "    plt.ylabel('Correlation')\n",
    "    plt.ylim(0.3, 1)\n",
    "\n",
    "# hourlycorrelation.plot(figsize=(20,20))\n",
    "# plt.title('Correlation Load vs Load Last Year')\n",
    "# plt.xlabel('Time')\n",
    "# plt.ylabel('Correlation')"
   ]
  },
  {
   "cell_type": "code",
   "execution_count": null,
   "metadata": {},
   "outputs": [],
   "source": [
    "plt.figure(figsize=(20,5))\n",
    "for j in range(0, 5):\n",
    "    hourlycorrelation = day_hourlycorrelation(j)\n",
    "    hourlycorrelation.set_index('Hour', inplace=True)\n",
    "    plt.plot(hourlycorrelation.index.time, hourlycorrelation['Correlation'])\n",
    "    \n",
    "plt.title(f'Weekdays: Correlation Load vs Load Last Year')\n",
    "plt.xlabel('Time')\n",
    "plt.ylabel('Correlation')\n",
    "plt.ylim(0.3, 1)\n",
    "plt.xticks(hourlycorrelation.index.time[0::2])\n",
    "plt.legend(['Monday', 'Tuesday', 'Wednesday', 'Thursday', 'Friday'])"
   ]
  },
  {
   "cell_type": "code",
   "execution_count": null,
   "metadata": {},
   "outputs": [],
   "source": [
    "plt.figure(figsize=(20,5))\n",
    "for j in range(5, 7):\n",
    "    hourlycorrelation = day_hourlycorrelation(j)\n",
    "    hourlycorrelation.set_index('Hour', inplace=True)\n",
    "    plt.plot(hourlycorrelation.index.time, hourlycorrelation['Correlation'])\n",
    "    \n",
    "plt.title(f'Weekends: Correlation Load vs Load Last Year')\n",
    "plt.xlabel('Time')\n",
    "plt.ylabel('Correlation')\n",
    "plt.ylim(0.3, 1)\n",
    "plt.xticks(hourlycorrelation.index.time[0::2])\n",
    "plt.legend(['Saturday', 'Sunday'])"
   ]
  },
  {
   "cell_type": "code",
   "execution_count": null,
   "metadata": {},
   "outputs": [],
   "source": [
    "plt.figure(figsize=(20,5))\n",
    "for j in range(0, 7):\n",
    "    if (j < 5):\n",
    "        color = 'blue'\n",
    "    else:\n",
    "        color = 'red'\n",
    "    hourlycorrelation = day_hourlycorrelation(j)\n",
    "    hourlycorrelation.set_index('Hour', inplace=True)\n",
    "    plt.plot(hourlycorrelation.index.time, hourlycorrelation['Correlation'], color=color)\n",
    "    \n",
    "plt.title(f'Days: Correlation Load vs Load Last Year')\n",
    "plt.xlabel('Time')\n",
    "plt.ylabel('Correlation')\n",
    "plt.ylim(0.3, 1)\n",
    "plt.xticks(hourlycorrelation.index.time[0::2])\n",
    "plt.legend(['Monday', 'Tuesday', 'Wednesday', 'Thursday', 'Friday', 'Saturday', 'Sunday'])\n",
    "# hourlycorrelation.plot(figsize=(20,20))\n",
    "# plt.title('Correlation Load vs Load Last Year')\n",
    "# plt.xlabel('Time')\n",
    "# plt.ylabel('Correlation')"
   ]
  }
 ],
 "metadata": {
  "kernelspec": {
   "display_name": "Python 3",
   "language": "python",
   "name": "python3"
  },
  "language_info": {
   "codemirror_mode": {
    "name": "ipython",
    "version": 3
   },
   "file_extension": ".py",
   "mimetype": "text/x-python",
   "name": "python",
   "nbconvert_exporter": "python",
   "pygments_lexer": "ipython3",
   "version": "3.6.6"
  }
 },
 "nbformat": 4,
 "nbformat_minor": 2
}
